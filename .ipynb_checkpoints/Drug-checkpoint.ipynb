{
 "cells": [
  {
   "cell_type": "code",
   "execution_count": 3,
   "metadata": {},
   "outputs": [
    {
     "name": "stdout",
     "output_type": "stream",
     "text": [
      "The autoreload extension is already loaded. To reload it, use:\n",
      "  %reload_ext autoreload\n"
     ]
    }
   ],
   "source": [
    "import pandas as pd\n",
    "from NN import *\n",
    "from solver import *\n",
    "from sklearn.model_selection import train_test_split\n",
    "\n",
    "# for auto-reloading external modules\n",
    "# see http://stackoverflow.com/questions/1907993/autoreload-of-modules-in-ipython\n",
    "%load_ext autoreload\n",
    "%autoreload 2"
   ]
  },
  {
   "cell_type": "code",
   "execution_count": 4,
   "metadata": {},
   "outputs": [],
   "source": [
    "names = ['ID', \n",
    "         'Age', \n",
    "         'Gender', \n",
    "         'Education', \n",
    "         'Country', \n",
    "         'Ethnicity', \n",
    "         'Nscore', \n",
    "         'Escore', \n",
    "         'Oscore', \n",
    "         'Ascore', \n",
    "         'Cscore', \n",
    "         'Impulsive', \n",
    "         'SS',\n",
    "         'Alcohol',\n",
    "         'Amphet',\n",
    "         'Amyl',\n",
    "         'Benzos',\n",
    "         'Caff',\n",
    "         'Cannabis',\n",
    "         'Choc', \n",
    "         'Coke', \n",
    "         'Crack', \n",
    "         'Ecstasy',\n",
    "         'Heroin',\n",
    "         'Ketamine', \n",
    "         'Legalh', \n",
    "         'LSD', \n",
    "         'Meth', \n",
    "         'Mushrooms', \n",
    "         'Nicotine', \n",
    "         'Semer', \n",
    "         'VSA']"
   ]
  },
  {
   "cell_type": "code",
   "execution_count": 27,
   "metadata": {},
   "outputs": [],
   "source": [
    "data = pd.read_csv('data/drug_consumption.csv', names=names, index_col='ID')"
   ]
  },
  {
   "cell_type": "code",
   "execution_count": 28,
   "metadata": {},
   "outputs": [
    {
     "name": "stdout",
     "output_type": "stream",
     "text": [
      "<class 'pandas.core.frame.DataFrame'>\n",
      "Int64Index: 1885 entries, 1 to 1888\n",
      "Data columns (total 31 columns):\n",
      "Age          1885 non-null float64\n",
      "Gender       1885 non-null float64\n",
      "Education    1885 non-null float64\n",
      "Country      1885 non-null float64\n",
      "Ethnicity    1885 non-null float64\n",
      "Nscore       1885 non-null float64\n",
      "Escore       1885 non-null float64\n",
      "Oscore       1885 non-null float64\n",
      "Ascore       1885 non-null float64\n",
      "Cscore       1885 non-null float64\n",
      "Impulsive    1885 non-null float64\n",
      "SS           1885 non-null float64\n",
      "Alcohol      1885 non-null object\n",
      "Amphet       1885 non-null object\n",
      "Amyl         1885 non-null object\n",
      "Benzos       1885 non-null object\n",
      "Caff         1885 non-null object\n",
      "Cannabis     1885 non-null object\n",
      "Choc         1885 non-null object\n",
      "Coke         1885 non-null object\n",
      "Crack        1885 non-null object\n",
      "Ecstasy      1885 non-null object\n",
      "Heroin       1885 non-null object\n",
      "Ketamine     1885 non-null object\n",
      "Legalh       1885 non-null object\n",
      "LSD          1885 non-null object\n",
      "Meth         1885 non-null object\n",
      "Mushrooms    1885 non-null object\n",
      "Nicotine     1885 non-null object\n",
      "Semer        1885 non-null object\n",
      "VSA          1885 non-null object\n",
      "dtypes: float64(12), object(19)\n",
      "memory usage: 471.2+ KB\n"
     ]
    }
   ],
   "source": [
    "data.info()"
   ]
  },
  {
   "cell_type": "code",
   "execution_count": 7,
   "metadata": {},
   "outputs": [],
   "source": [
    "Ecstasy = (data['Ecstasy'] == 'CL0') | (data['Ecstasy'] == 'CL1')\n",
    "Mushrooms = (data['Mushrooms'] == 'CL0') | (data['Mushrooms'] == 'CL')\n",
    "Coke = (data['Coke'] == 'CL0') | (data['Coke'] == 'CL1')\n",
    "Meth = (data['Meth'] == 'CL0') | (data['Meth'] == 'CL1')\n",
    "Amphet = (data['Amphet'] == 'CL0') | (data['Amphet'] == 'CL1')\n",
    "LSD = (data['LSD'] == 'CL0') | (data['LSD'] == 'CL1')\n",
    "Heroin = (data['Heroin'] == 'CL0') | (data['Heroin'] == 'CL1')\n",
    "Crack = (data['Crack'] == 'CL0') | (data['Crack'] == 'CL1')\n",
    "non_user = Ecstasy & Mushrooms & Coke & Meth & Amphet & LSD & Heroin & Crack"
   ]
  },
  {
   "cell_type": "code",
   "execution_count": 8,
   "metadata": {},
   "outputs": [],
   "source": [
    "user_info = data[[\n",
    "                 'Age', \n",
    "                 'Gender', \n",
    "                 'Education', \n",
    "                 'Country', \n",
    "                 'Ethnicity', \n",
    "                 'Nscore', \n",
    "                 'Escore', \n",
    "                 'Oscore', \n",
    "                 'Ascore', \n",
    "                 'Cscore', \n",
    "                 'Impulsive', \n",
    "                 'SS']]\n",
    "X = user_info.values\n",
    "y = np.array(non_user)\n",
    "y = y*1"
   ]
  },
  {
   "cell_type": "code",
   "execution_count": 29,
   "metadata": {},
   "outputs": [],
   "source": [
    "data = {}\n",
    "X_train, X_test, y_train, y_test = train_test_split(X, y, test_size=0.33, random_state=42)\n",
    "data['X_train'] = X_train\n",
    "data['y_train'] = y_train"
   ]
  },
  {
   "cell_type": "code",
   "execution_count": 30,
   "metadata": {},
   "outputs": [],
   "source": [
    "model = FullyConnectedNet(hidden_dims=[10, 5, 6], input_dim=X.shape[1], num_classes=2)\n",
    "FCNet = Solver(model, data, learning_rate=1e-2)\n",
    "FCNet.train()"
   ]
  },
  {
   "cell_type": "code",
   "execution_count": 31,
   "metadata": {},
   "outputs": [
    {
     "data": {
      "text/plain": [
       "0.651685393258427"
      ]
     },
     "execution_count": 31,
     "metadata": {},
     "output_type": "execute_result"
    }
   ],
   "source": [
    "y_pred = np.argmax(model.loss(X_test), axis=1)\n",
    "np.mean(y_pred == y_test)"
   ]
  },
  {
   "cell_type": "code",
   "execution_count": 25,
   "metadata": {
    "scrolled": true
   },
   "outputs": [
    {
     "data": {
      "text/plain": [
       "[0.37321711568938193,\n",
       " 0.37321711568938193,\n",
       " 0.37321711568938193,\n",
       " 0.37321711568938193,\n",
       " 0.37321711568938193,\n",
       " 0.37321711568938193,\n",
       " 0.37321711568938193,\n",
       " 0.37321711568938193,\n",
       " 0.37321711568938193,\n",
       " 0.37321711568938193,\n",
       " 0.37321711568938193]"
      ]
     },
     "execution_count": 25,
     "metadata": {},
     "output_type": "execute_result"
    }
   ],
   "source": [
    "FCNet.train_acc_history"
   ]
  },
  {
   "cell_type": "code",
   "execution_count": 13,
   "metadata": {},
   "outputs": [
    {
     "data": {
      "text/plain": [
       "(1262, 3)"
      ]
     },
     "execution_count": 13,
     "metadata": {},
     "output_type": "execute_result"
    }
   ],
   "source": [
    "from layer import *\n",
    "W = np.random.normal(0, 1e-2, (X_train.shape[1], 3))\n",
    "b = np.zeros(3)\n",
    "forward_pass(X_train, W, b)[0].shape"
   ]
  },
  {
   "cell_type": "code",
   "execution_count": 14,
   "metadata": {},
   "outputs": [],
   "source": [
    "model = FullyConnectedNet(hidden_dims=[10, 10, 10], input_dim=X.shape[1], weight_scale=1e-5, num_classes=2)\n",
    "\n",
    "num_train = X_train.shape[0]\n",
    "\n",
    "for i in range(num_train):\n",
    "    loss, grads = model.loss(X_train, y_train)\n",
    "\n",
    "    for key, val in model.params.items():\n",
    "        dw = grads[key]\n",
    "        w = val\n",
    "        w += (-1) * 1e-3 * dw\n",
    "        model.params[key] = w\n",
    "\n",
    "y_pred = np.argmax(model.loss(X_test), axis=1)\n",
    "train_acc = np.mean(y_pred == y_test)"
   ]
  },
  {
   "cell_type": "code",
   "execution_count": 15,
   "metadata": {},
   "outputs": [
    {
     "data": {
      "text/plain": [
       "0.5666131621187801"
      ]
     },
     "execution_count": 15,
     "metadata": {},
     "output_type": "execute_result"
    }
   ],
   "source": [
    "train_acc"
   ]
  },
  {
   "cell_type": "code",
   "execution_count": null,
   "metadata": {},
   "outputs": [],
   "source": []
  }
 ],
 "metadata": {
  "kernelspec": {
   "display_name": "Python 3",
   "language": "python",
   "name": "python3"
  },
  "language_info": {
   "codemirror_mode": {
    "name": "ipython",
    "version": 3
   },
   "file_extension": ".py",
   "mimetype": "text/x-python",
   "name": "python",
   "nbconvert_exporter": "python",
   "pygments_lexer": "ipython3",
   "version": "3.7.1"
  }
 },
 "nbformat": 4,
 "nbformat_minor": 2
}
